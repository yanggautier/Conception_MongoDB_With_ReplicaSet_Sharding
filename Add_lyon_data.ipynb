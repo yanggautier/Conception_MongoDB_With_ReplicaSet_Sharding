{
 "cells": [
  {
   "cell_type": "code",
   "execution_count": 5,
   "id": "80a39a13",
   "metadata": {},
   "outputs": [],
   "source": [
    "import pymongo\n",
    "import pandas as pd"
   ]
  },
  {
   "cell_type": "code",
   "execution_count": 6,
   "id": "3fd6d2b9",
   "metadata": {},
   "outputs": [],
   "source": [
    "df = pd.read_csv(\"data/listings_Lyon.csv\")\n",
    "df[\"city\"] = \"Lyon\"\n",
    "df.to_csv(\"data/listings_Lyon_modified.csv\", index=False)"
   ]
  },
  {
   "cell_type": "code",
   "execution_count": 8,
   "id": "281cea8f",
   "metadata": {},
   "outputs": [
    {
     "data": {
      "text/plain": [
       "array(['id', 'listing_url', 'scrape_id', 'last_scraped', 'source', 'name',\n",
       "       'description', 'neighborhood_overview', 'picture_url', 'host_id',\n",
       "       'host_url', 'host_name', 'host_since', 'host_location',\n",
       "       'host_about', 'host_response_time', 'host_response_rate',\n",
       "       'host_acceptance_rate', 'host_is_superhost', 'host_thumbnail_url',\n",
       "       'host_picture_url', 'host_neighbourhood', 'host_listings_count',\n",
       "       'host_total_listings_count', 'host_verifications',\n",
       "       'host_has_profile_pic', 'host_identity_verified', 'neighbourhood',\n",
       "       'neighbourhood_cleansed', 'neighbourhood_group_cleansed',\n",
       "       'latitude', 'longitude', 'property_type', 'room_type',\n",
       "       'accommodates', 'bathrooms', 'bathrooms_text', 'bedrooms', 'beds',\n",
       "       'amenities', 'price', 'minimum_nights', 'maximum_nights',\n",
       "       'minimum_minimum_nights', 'maximum_minimum_nights',\n",
       "       'minimum_maximum_nights', 'maximum_maximum_nights',\n",
       "       'minimum_nights_avg_ntm', 'maximum_nights_avg_ntm',\n",
       "       'calendar_updated', 'has_availability', 'availability_30',\n",
       "       'availability_60', 'availability_90', 'availability_365',\n",
       "       'calendar_last_scraped', 'number_of_reviews',\n",
       "       'number_of_reviews_ltm', 'number_of_reviews_l30d', 'first_review',\n",
       "       'last_review', 'review_scores_rating', 'review_scores_accuracy',\n",
       "       'review_scores_cleanliness', 'review_scores_checkin',\n",
       "       'review_scores_communication', 'review_scores_location',\n",
       "       'review_scores_value', 'license', 'instant_bookable',\n",
       "       'calculated_host_listings_count',\n",
       "       'calculated_host_listings_count_entire_homes',\n",
       "       'calculated_host_listings_count_private_rooms',\n",
       "       'calculated_host_listings_count_shared_rooms', 'reviews_per_month',\n",
       "       'city'], dtype=object)"
      ]
     },
     "execution_count": 8,
     "metadata": {},
     "output_type": "execute_result"
    }
   ],
   "source": [
    "df.columns.values"
   ]
  },
  {
   "cell_type": "code",
   "execution_count": null,
   "id": "293ce499",
   "metadata": {},
   "outputs": [],
   "source": [
    "df = pd.read_csv(\"data/listings_Paris.csv\")\n",
    "df[\"city\"] = \"Paris\"\n",
    "df.to_csv(\"data/listings_Paris_modified.csv\", index=False)"
   ]
  }
 ],
 "metadata": {
  "kernelspec": {
   "display_name": "Python 3 (ipykernel)",
   "language": "python",
   "name": "python3"
  },
  "language_info": {
   "codemirror_mode": {
    "name": "ipython",
    "version": 3
   },
   "file_extension": ".py",
   "mimetype": "text/x-python",
   "name": "python",
   "nbconvert_exporter": "python",
   "pygments_lexer": "ipython3",
   "version": "3.11.7"
  }
 },
 "nbformat": 4,
 "nbformat_minor": 5
}
