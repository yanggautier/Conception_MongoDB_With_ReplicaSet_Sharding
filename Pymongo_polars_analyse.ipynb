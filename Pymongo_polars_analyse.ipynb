{
 "cells": [
  {
   "cell_type": "markdown",
   "id": "4408f4ac",
   "metadata": {},
   "source": [
    "### Importation des modules qu'on a besoin"
   ]
  },
  {
   "cell_type": "code",
   "execution_count": 1,
   "id": "bed2a0df",
   "metadata": {},
   "outputs": [],
   "source": [
    "from pymongo import MongoClient\n",
    "from typing import List, Dict\n",
    "import polars as pl\n",
    "import datetime as dt\n",
    "import numpy as np"
   ]
  },
  {
   "cell_type": "code",
   "execution_count": 2,
   "id": "1a1b72be",
   "metadata": {},
   "outputs": [],
   "source": [
    "client = MongoClient('mongodb://localhost:27017/')\n",
    "db = client.paris_listing\n",
    "collection = db.listings"
   ]
  },
  {
   "cell_type": "code",
   "execution_count": 5,
   "id": "f34366a8",
   "metadata": {},
   "outputs": [],
   "source": [
    "def mongodb_to_polars_records(data: List[Dict]) -> pl.DataFrame:\n",
    "    \"\"\"\n",
    "    Convertit les données MongoDB en DataFrame Polars en utilisant from_records.\n",
    "    \n",
    "    Args:\n",
    "        data: Liste de dictionnaires provenant de MongoDB\n",
    "    \n",
    "    Returns:\n",
    "        pl.DataFrame: DataFrame Polars\n",
    "    \"\"\"\n",
    "    # Supprimer le champ _id de MongoDB\n",
    "    clean_data = []\n",
    "    for record in data:\n",
    "        # Créer une copie du dictionnaire sans _id\n",
    "        clean_record = record.copy()\n",
    "        if '_id' in clean_record:\n",
    "            del clean_record['_id']\n",
    "            \n",
    "        # Convertir les bytes en str si nécessaire\n",
    "        for key, value in clean_record.items():\n",
    "            if isinstance(value, bytes):\n",
    "                clean_record[key] = value.decode('utf-8')\n",
    "                \n",
    "        clean_data.append(clean_record)\n",
    "    \n",
    "    try:\n",
    "        # Première tentative avec infer_schema_length par défaut\n",
    "        return pl.from_records(clean_data)\n",
    "    except Exception as e:\n",
    "        print(f\"Première tentative échouée, essai avec infer_schema_length plus grand: {str(e)}\")\n",
    "        try:\n",
    "            # Deuxième tentative avec infer_schema_length plus grand\n",
    "            return pl.from_records(clean_data, infer_schema_length=10000)\n",
    "        except Exception as e:\n",
    "            print(f\"Deuxième tentative échouée, conversion en strings: {str(e)}\")\n",
    "            # Convertir toutes les valeurs en string\n",
    "            str_data = [{k: str(v) if v is not None else \"\" for k, v in record.items()} \n",
    "                       for record in clean_data]\n",
    "            return pl.from_records(str_data)"
   ]
  },
  {
   "cell_type": "code",
   "execution_count": 6,
   "id": "30f7057d",
   "metadata": {},
   "outputs": [
    {
     "name": "stdout",
     "output_type": "stream",
     "text": [
      "Première tentative échouée, essai avec infer_schema_length plus grand: could not append value: \"\" of type: str to the builder; make sure that all rows have the same schema or consider increasing `infer_schema_length`\n",
      "\n",
      "it might also be that a value overflows the data-type's capacity\n"
     ]
    }
   ],
   "source": [
    "# Récupérer tous les documents\n",
    "all_listings = list(collection.find())\n",
    "\n",
    "# Convertir en DataFrame Polars\n",
    "df = mongodb_to_polars_records(all_listings)"
   ]
  },
  {
   "cell_type": "code",
   "execution_count": 7,
   "id": "cec3277b",
   "metadata": {
    "scrolled": true
   },
   "outputs": [
    {
     "data": {
      "text/plain": [
       "['id',\n",
       " 'listing_url',\n",
       " 'scrape_id',\n",
       " 'last_scraped',\n",
       " 'source',\n",
       " 'name',\n",
       " 'description',\n",
       " 'neighborhood_overview',\n",
       " 'picture_url',\n",
       " 'host_id',\n",
       " 'host_url',\n",
       " 'host_name',\n",
       " 'host_since',\n",
       " 'host_location',\n",
       " 'host_about',\n",
       " 'host_response_time',\n",
       " 'host_response_rate',\n",
       " 'host_acceptance_rate',\n",
       " 'host_is_superhost',\n",
       " 'host_thumbnail_url',\n",
       " 'host_picture_url',\n",
       " 'host_neighbourhood',\n",
       " 'host_listings_count',\n",
       " 'host_total_listings_count',\n",
       " 'host_verifications',\n",
       " 'host_has_profile_pic',\n",
       " 'host_identity_verified',\n",
       " 'neighbourhood',\n",
       " 'neighbourhood_cleansed',\n",
       " 'neighbourhood_group_cleansed',\n",
       " 'latitude',\n",
       " 'longitude',\n",
       " 'property_type',\n",
       " 'room_type',\n",
       " 'accommodates',\n",
       " 'bathrooms',\n",
       " 'bathrooms_text',\n",
       " 'bedrooms',\n",
       " 'beds',\n",
       " 'amenities',\n",
       " 'price',\n",
       " 'minimum_nights',\n",
       " 'maximum_nights',\n",
       " 'minimum_minimum_nights',\n",
       " 'maximum_minimum_nights',\n",
       " 'minimum_maximum_nights',\n",
       " 'maximum_maximum_nights',\n",
       " 'minimum_nights_avg_ntm',\n",
       " 'maximum_nights_avg_ntm',\n",
       " 'calendar_updated',\n",
       " 'has_availability',\n",
       " 'availability_30',\n",
       " 'availability_60',\n",
       " 'availability_90',\n",
       " 'availability_365',\n",
       " 'calendar_last_scraped',\n",
       " 'number_of_reviews',\n",
       " 'number_of_reviews_ltm',\n",
       " 'number_of_reviews_l30d',\n",
       " 'first_review',\n",
       " 'last_review',\n",
       " 'review_scores_rating',\n",
       " 'review_scores_accuracy',\n",
       " 'review_scores_cleanliness',\n",
       " 'review_scores_checkin',\n",
       " 'review_scores_communication',\n",
       " 'review_scores_location',\n",
       " 'review_scores_value',\n",
       " 'license',\n",
       " 'instant_bookable',\n",
       " 'calculated_host_listings_count',\n",
       " 'calculated_host_listings_count_entire_homes',\n",
       " 'calculated_host_listings_count_private_rooms',\n",
       " 'calculated_host_listings_count_shared_rooms',\n",
       " 'reviews_per_month']"
      ]
     },
     "execution_count": 7,
     "metadata": {},
     "output_type": "execute_result"
    }
   ],
   "source": [
    "df.columns"
   ]
  },
  {
   "cell_type": "code",
   "execution_count": 8,
   "id": "402992d5",
   "metadata": {},
   "outputs": [
    {
     "data": {
      "text/html": [
       "<div><style>\n",
       ".dataframe > thead > tr,\n",
       ".dataframe > tbody > tr {\n",
       "  text-align: right;\n",
       "  white-space: pre-wrap;\n",
       "}\n",
       "</style>\n",
       "<small>shape: (70, 2)</small><table border=\"1\" class=\"dataframe\"><thead><tr><th>property_type</th><th>avg_reservation_rate</th></tr><tr><td>str</td><td>f64</td></tr></thead><tbody><tr><td>&quot;Entire bungalow&quot;</td><td>100.0</td></tr><tr><td>&quot;Shared room in ice dome&quot;</td><td>100.0</td></tr><tr><td>&quot;Dome&quot;</td><td>100.0</td></tr><tr><td>&quot;Shared room in townhouse&quot;</td><td>98.17</td></tr><tr><td>&quot;Cave&quot;</td><td>97.26</td></tr><tr><td>&hellip;</td><td>&hellip;</td></tr><tr><td>&quot;Shipping container&quot;</td><td>0.27</td></tr><tr><td>&quot;Tower&quot;</td><td>0.27</td></tr><tr><td>&quot;Private room in villa&quot;</td><td>0.27</td></tr><tr><td>&quot;Barn&quot;</td><td>0.0</td></tr><tr><td>&quot;Entire bed and breakfast&quot;</td><td>0.0</td></tr></tbody></table></div>"
      ],
      "text/plain": [
       "shape: (70, 2)\n",
       "┌──────────────────────────┬──────────────────────┐\n",
       "│ property_type            ┆ avg_reservation_rate │\n",
       "│ ---                      ┆ ---                  │\n",
       "│ str                      ┆ f64                  │\n",
       "╞══════════════════════════╪══════════════════════╡\n",
       "│ Entire bungalow          ┆ 100.0                │\n",
       "│ Shared room in ice dome  ┆ 100.0                │\n",
       "│ Dome                     ┆ 100.0                │\n",
       "│ Shared room in townhouse ┆ 98.17                │\n",
       "│ Cave                     ┆ 97.26                │\n",
       "│ …                        ┆ …                    │\n",
       "│ Shipping container       ┆ 0.27                 │\n",
       "│ Tower                    ┆ 0.27                 │\n",
       "│ Private room in villa    ┆ 0.27                 │\n",
       "│ Barn                     ┆ 0.0                  │\n",
       "│ Entire bed and breakfast ┆ 0.0                  │\n",
       "└──────────────────────────┴──────────────────────┘"
      ]
     },
     "execution_count": 8,
     "metadata": {},
     "output_type": "execute_result"
    }
   ],
   "source": [
    "# Calculer le taux de réservation moyen par mois par type de logement\n",
    "df.with_columns(\n",
    "    reservation_rate=(365 - pl.col(\"availability_365\"))/ 365 * 100\n",
    ") \\\n",
    ".group_by(\"property_type\") \\\n",
    ".agg(avg_reservation_rate=pl.col(\"reservation_rate\").mean().round(2)) \\\n",
    ".sort(\"avg_reservation_rate\", descending=True)"
   ]
  },
  {
   "cell_type": "code",
   "execution_count": 98,
   "id": "f58ab523",
   "metadata": {},
   "outputs": [
    {
     "data": {
      "text/html": [
       "<div><style>\n",
       ".dataframe > thead > tr,\n",
       ".dataframe > tbody > tr {\n",
       "  text-align: right;\n",
       "  white-space: pre-wrap;\n",
       "}\n",
       "</style>\n",
       "<small>shape: (4, 3)</small><table border=\"1\" class=\"dataframe\"><thead><tr><th>room_type</th><th>sum_reviews</th><th>pcg_reviews</th></tr><tr><td>str</td><td>i64</td><td>f64</td></tr></thead><tbody><tr><td>&quot;Entire home/apt&quot;</td><td>1567261</td><td>82.19</td></tr><tr><td>&quot;Hotel room&quot;</td><td>41909</td><td>2.2</td></tr><tr><td>&quot;Shared room&quot;</td><td>18114</td><td>0.95</td></tr><tr><td>&quot;Private room&quot;</td><td>279695</td><td>14.67</td></tr></tbody></table></div>"
      ],
      "text/plain": [
       "shape: (4, 3)\n",
       "┌─────────────────┬─────────────┬─────────────┐\n",
       "│ room_type       ┆ sum_reviews ┆ pcg_reviews │\n",
       "│ ---             ┆ ---         ┆ ---         │\n",
       "│ str             ┆ i64         ┆ f64         │\n",
       "╞═════════════════╪═════════════╪═════════════╡\n",
       "│ Entire home/apt ┆ 1567261     ┆ 82.19       │\n",
       "│ Hotel room      ┆ 41909       ┆ 2.2         │\n",
       "│ Shared room     ┆ 18114       ┆ 0.95        │\n",
       "│ Private room    ┆ 279695      ┆ 14.67       │\n",
       "└─────────────────┴─────────────┴─────────────┘"
      ]
     },
     "execution_count": 98,
     "metadata": {},
     "output_type": "execute_result"
    }
   ],
   "source": [
    "# Calculer le pourcentage de reviews par type de chambre\n",
    "df.select([\"room_type\", \"number_of_reviews\"]) \\\n",
    ".group_by(\"room_type\") \\\n",
    ".agg(\n",
    "    sum_reviews=pl.col(\"number_of_reviews\").sum()\n",
    ") \\\n",
    ".with_columns(\n",
    "    pcg_reviews=(pl.col(\"sum_reviews\") / pl.col(\"sum_reviews\").sum() * 100).round(2)\n",
    ")"
   ]
  },
  {
   "cell_type": "code",
   "execution_count": 103,
   "id": "0a82ea6a",
   "metadata": {},
   "outputs": [
    {
     "data": {
      "text/plain": [
       "3.0"
      ]
     },
     "execution_count": 103,
     "metadata": {},
     "output_type": "execute_result"
    }
   ],
   "source": [
    "# Calculer la médiane des nombres d’avis pour tous les logements\n",
    "df.select(pl.col(\"number_of_reviews\").median()).item()"
   ]
  },
  {
   "cell_type": "code",
   "execution_count": 110,
   "id": "8f96192c",
   "metadata": {},
   "outputs": [
    {
     "data": {
      "text/html": [
       "<div><style>\n",
       ".dataframe > thead > tr,\n",
       ".dataframe > tbody > tr {\n",
       "  text-align: right;\n",
       "  white-space: pre-wrap;\n",
       "}\n",
       "</style>\n",
       "<small>shape: (3, 2)</small><table border=\"1\" class=\"dataframe\"><thead><tr><th>host_is_superhost</th><th>number_of_reviews</th></tr><tr><td>str</td><td>f64</td></tr></thead><tbody><tr><td>&quot;t&quot;</td><td>24.0</td></tr><tr><td>&quot;&quot;</td><td>12.5</td></tr><tr><td>&quot;f&quot;</td><td>2.0</td></tr></tbody></table></div>"
      ],
      "text/plain": [
       "shape: (3, 2)\n",
       "┌───────────────────┬───────────────────┐\n",
       "│ host_is_superhost ┆ number_of_reviews │\n",
       "│ ---               ┆ ---               │\n",
       "│ str               ┆ f64               │\n",
       "╞═══════════════════╪═══════════════════╡\n",
       "│ t                 ┆ 24.0              │\n",
       "│                   ┆ 12.5              │\n",
       "│ f                 ┆ 2.0               │\n",
       "└───────────────────┴───────────────────┘"
      ]
     },
     "execution_count": 110,
     "metadata": {},
     "output_type": "execute_result"
    }
   ],
   "source": [
    "# Calculer la médiane des nombres d’avis par catégorie d’hôte\n",
    "df.group_by(\"host_is_superhost\").agg(\n",
    "    pl.col(\"number_of_reviews\").median()\n",
    ").sort(\"number_of_reviews\", descending=True)"
   ]
  },
  {
   "cell_type": "code",
   "execution_count": 121,
   "id": "90517d36",
   "metadata": {},
   "outputs": [
    {
     "name": "stderr",
     "output_type": "stream",
     "text": [
      "/var/folders/b8/_p_1v95j6ql648xwdw382p9h0000gn/T/ipykernel_57724/4228890905.py:2: DeprecationWarning: `GroupBy.count` is deprecated. It has been renamed to `len`.\n",
      "  df.group_by(\"neighbourhood_cleansed\").count().sort('count', descending=True)\n"
     ]
    },
    {
     "data": {
      "text/html": [
       "<div><style>\n",
       ".dataframe > thead > tr,\n",
       ".dataframe > tbody > tr {\n",
       "  text-align: right;\n",
       "  white-space: pre-wrap;\n",
       "}\n",
       "</style>\n",
       "<small>shape: (20, 2)</small><table border=\"1\" class=\"dataframe\"><thead><tr><th>neighbourhood_cleansed</th><th>count</th></tr><tr><td>str</td><td>u32</td></tr></thead><tbody><tr><td>&quot;Buttes-Montmartre&quot;</td><td>10555</td></tr><tr><td>&quot;Popincourt&quot;</td><td>8430</td></tr><tr><td>&quot;Vaugirard&quot;</td><td>7802</td></tr><tr><td>&quot;Batignolles-Monceau&quot;</td><td>6857</td></tr><tr><td>&quot;Entrepôt&quot;</td><td>6558</td></tr><tr><td>&hellip;</td><td>&hellip;</td></tr><tr><td>&quot;Élysée&quot;</td><td>2898</td></tr><tr><td>&quot;Hôtel-de-Ville&quot;</td><td>2821</td></tr><tr><td>&quot;Palais-Bourbon&quot;</td><td>2740</td></tr><tr><td>&quot;Luxembourg&quot;</td><td>2701</td></tr><tr><td>&quot;Louvre&quot;</td><td>2026</td></tr></tbody></table></div>"
      ],
      "text/plain": [
       "shape: (20, 2)\n",
       "┌────────────────────────┬───────┐\n",
       "│ neighbourhood_cleansed ┆ count │\n",
       "│ ---                    ┆ ---   │\n",
       "│ str                    ┆ u32   │\n",
       "╞════════════════════════╪═══════╡\n",
       "│ Buttes-Montmartre      ┆ 10555 │\n",
       "│ Popincourt             ┆ 8430  │\n",
       "│ Vaugirard              ┆ 7802  │\n",
       "│ Batignolles-Monceau    ┆ 6857  │\n",
       "│ Entrepôt               ┆ 6558  │\n",
       "│ …                      ┆ …     │\n",
       "│ Élysée                 ┆ 2898  │\n",
       "│ Hôtel-de-Ville         ┆ 2821  │\n",
       "│ Palais-Bourbon         ┆ 2740  │\n",
       "│ Luxembourg             ┆ 2701  │\n",
       "│ Louvre                 ┆ 2026  │\n",
       "└────────────────────────┴───────┘"
      ]
     },
     "execution_count": 121,
     "metadata": {},
     "output_type": "execute_result"
    }
   ],
   "source": [
    "# Calculer la densité de logements par quartier de Paris\n",
    "df.group_by(\"neighbourhood_cleansed\").count().sort('count', descending=True)"
   ]
  },
  {
   "cell_type": "code",
   "execution_count": 128,
   "id": "7c861799",
   "metadata": {},
   "outputs": [
    {
     "data": {
      "text/html": [
       "<div><style>\n",
       ".dataframe > thead > tr,\n",
       ".dataframe > tbody > tr {\n",
       "  text-align: right;\n",
       "  white-space: pre-wrap;\n",
       "}\n",
       "</style>\n",
       "<small>shape: (10, 2)</small><table border=\"1\" class=\"dataframe\"><thead><tr><th>neighbourhood_cleansed</th><th>avg_neighbourhood_reservation_rate</th></tr><tr><td>str</td><td>f64</td></tr></thead><tbody><tr><td>&quot;Ménilmontant&quot;</td><td>71.08</td></tr><tr><td>&quot;Buttes-Chaumont&quot;</td><td>69.73</td></tr><tr><td>&quot;Buttes-Montmartre&quot;</td><td>69.25</td></tr><tr><td>&quot;Entrepôt&quot;</td><td>68.99</td></tr><tr><td>&quot;Popincourt&quot;</td><td>68.87</td></tr><tr><td>&quot;Gobelins&quot;</td><td>68.26</td></tr><tr><td>&quot;Reuilly&quot;</td><td>67.74</td></tr><tr><td>&quot;Panthéon&quot;</td><td>66.36</td></tr><tr><td>&quot;Vaugirard&quot;</td><td>65.9</td></tr><tr><td>&quot;Observatoire&quot;</td><td>65.16</td></tr></tbody></table></div>"
      ],
      "text/plain": [
       "shape: (10, 2)\n",
       "┌────────────────────────┬─────────────────────────────────┐\n",
       "│ neighbourhood_cleansed ┆ avg_neighbourhood_reservation_… │\n",
       "│ ---                    ┆ ---                             │\n",
       "│ str                    ┆ f64                             │\n",
       "╞════════════════════════╪═════════════════════════════════╡\n",
       "│ Ménilmontant           ┆ 71.08                           │\n",
       "│ Buttes-Chaumont        ┆ 69.73                           │\n",
       "│ Buttes-Montmartre      ┆ 69.25                           │\n",
       "│ Entrepôt               ┆ 68.99                           │\n",
       "│ Popincourt             ┆ 68.87                           │\n",
       "│ Gobelins               ┆ 68.26                           │\n",
       "│ Reuilly                ┆ 67.74                           │\n",
       "│ Panthéon               ┆ 66.36                           │\n",
       "│ Vaugirard              ┆ 65.9                            │\n",
       "│ Observatoire           ┆ 65.16                           │\n",
       "└────────────────────────┴─────────────────────────────────┘"
      ]
     },
     "execution_count": 128,
     "metadata": {},
     "output_type": "execute_result"
    }
   ],
   "source": [
    "# Identifier les quartiers avec le plus fort taux de réservation par mois\n",
    "df.with_columns(\n",
    "    reservation_rate=(365 - pl.col(\"availability_365\"))/ 365 * 100\n",
    ") \\\n",
    ".group_by(\"neighbourhood_cleansed\") \\\n",
    ".agg(avg_neighbourhood_reservation_rate=pl.col(\"reservation_rate\").mean().round(2)) \\\n",
    ".sort(\"avg_neighbourhood_reservation_rate\", descending=True).limit(10)"
   ]
  }
 ],
 "metadata": {
  "kernelspec": {
   "display_name": "Python 3 (ipykernel)",
   "language": "python",
   "name": "python3"
  },
  "language_info": {
   "codemirror_mode": {
    "name": "ipython",
    "version": 3
   },
   "file_extension": ".py",
   "mimetype": "text/x-python",
   "name": "python",
   "nbconvert_exporter": "python",
   "pygments_lexer": "ipython3",
   "version": "3.11.7"
  }
 },
 "nbformat": 4,
 "nbformat_minor": 5
}
